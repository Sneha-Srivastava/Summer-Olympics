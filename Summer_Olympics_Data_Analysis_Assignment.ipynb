{
  "nbformat": 4,
  "nbformat_minor": 0,
  "metadata": {
    "colab": {
      "name": "Copy of Summer Olympics Data Analysis Assignment.ipynb",
      "provenance": [],
      "include_colab_link": true
    },
    "kernelspec": {
      "name": "python3",
      "display_name": "Python 3"
    },
    "language_info": {
      "name": "python"
    }
  },
  "cells": [
    {
      "cell_type": "markdown",
      "metadata": {
        "id": "view-in-github",
        "colab_type": "text"
      },
      "source": [
        "<a href=\"https://colab.research.google.com/github/Sneha-Srivastava/Summer-Olympics/blob/main/Summer_Olympics_Data_Analysis_Assignment.ipynb\" target=\"_parent\"><img src=\"https://colab.research.google.com/assets/colab-badge.svg\" alt=\"Open In Colab\"/></a>"
      ]
    },
    {
      "cell_type": "markdown",
      "metadata": {
        "id": "jIiOKuPG_3xp"
      },
      "source": [
        "# Summer Olympics Data Analysis Assignment"
      ]
    },
    {
      "cell_type": "code",
      "metadata": {
        "id": "yt9rMLz4ABsK"
      },
      "source": [
        "import pandas as pd\n",
        "import matplotlib.pyplot as plt\n",
        "%matplotlib inline"
      ],
      "execution_count": null,
      "outputs": []
    },
    {
      "cell_type": "code",
      "metadata": {
        "colab": {
          "base_uri": "https://localhost:8080/",
          "height": 359
        },
        "id": "pGCB7jXKAGuh",
        "outputId": "5eafc62d-ee85-43a2-e981-4e6811d8f814"
      },
      "source": [
        "df = pd.read_csv('/content/summer.csv')\n",
        "df.head(10)"
      ],
      "execution_count": null,
      "outputs": [
        {
          "output_type": "execute_result",
          "data": {
            "text/html": [
              "<div>\n",
              "<style scoped>\n",
              "    .dataframe tbody tr th:only-of-type {\n",
              "        vertical-align: middle;\n",
              "    }\n",
              "\n",
              "    .dataframe tbody tr th {\n",
              "        vertical-align: top;\n",
              "    }\n",
              "\n",
              "    .dataframe thead th {\n",
              "        text-align: right;\n",
              "    }\n",
              "</style>\n",
              "<table border=\"1\" class=\"dataframe\">\n",
              "  <thead>\n",
              "    <tr style=\"text-align: right;\">\n",
              "      <th></th>\n",
              "      <th>Year</th>\n",
              "      <th>City</th>\n",
              "      <th>Sport</th>\n",
              "      <th>Discipline</th>\n",
              "      <th>Athlete</th>\n",
              "      <th>Country</th>\n",
              "      <th>Gender</th>\n",
              "      <th>Event</th>\n",
              "      <th>Medal</th>\n",
              "    </tr>\n",
              "  </thead>\n",
              "  <tbody>\n",
              "    <tr>\n",
              "      <th>0</th>\n",
              "      <td>1896</td>\n",
              "      <td>Athens</td>\n",
              "      <td>Aquatics</td>\n",
              "      <td>Swimming</td>\n",
              "      <td>HAJOS, Alfred</td>\n",
              "      <td>HUN</td>\n",
              "      <td>Men</td>\n",
              "      <td>100M Freestyle</td>\n",
              "      <td>Gold</td>\n",
              "    </tr>\n",
              "    <tr>\n",
              "      <th>1</th>\n",
              "      <td>1896</td>\n",
              "      <td>Athens</td>\n",
              "      <td>Aquatics</td>\n",
              "      <td>Swimming</td>\n",
              "      <td>HERSCHMANN, Otto</td>\n",
              "      <td>AUT</td>\n",
              "      <td>Men</td>\n",
              "      <td>100M Freestyle</td>\n",
              "      <td>Silver</td>\n",
              "    </tr>\n",
              "    <tr>\n",
              "      <th>2</th>\n",
              "      <td>1896</td>\n",
              "      <td>Athens</td>\n",
              "      <td>Aquatics</td>\n",
              "      <td>Swimming</td>\n",
              "      <td>DRIVAS, Dimitrios</td>\n",
              "      <td>GRE</td>\n",
              "      <td>Men</td>\n",
              "      <td>100M Freestyle For Sailors</td>\n",
              "      <td>Bronze</td>\n",
              "    </tr>\n",
              "    <tr>\n",
              "      <th>3</th>\n",
              "      <td>1896</td>\n",
              "      <td>Athens</td>\n",
              "      <td>Aquatics</td>\n",
              "      <td>Swimming</td>\n",
              "      <td>MALOKINIS, Ioannis</td>\n",
              "      <td>GRE</td>\n",
              "      <td>Men</td>\n",
              "      <td>100M Freestyle For Sailors</td>\n",
              "      <td>Gold</td>\n",
              "    </tr>\n",
              "    <tr>\n",
              "      <th>4</th>\n",
              "      <td>1896</td>\n",
              "      <td>Athens</td>\n",
              "      <td>Aquatics</td>\n",
              "      <td>Swimming</td>\n",
              "      <td>CHASAPIS, Spiridon</td>\n",
              "      <td>GRE</td>\n",
              "      <td>Men</td>\n",
              "      <td>100M Freestyle For Sailors</td>\n",
              "      <td>Silver</td>\n",
              "    </tr>\n",
              "    <tr>\n",
              "      <th>5</th>\n",
              "      <td>1896</td>\n",
              "      <td>Athens</td>\n",
              "      <td>Aquatics</td>\n",
              "      <td>Swimming</td>\n",
              "      <td>CHOROPHAS, Efstathios</td>\n",
              "      <td>GRE</td>\n",
              "      <td>Men</td>\n",
              "      <td>1200M Freestyle</td>\n",
              "      <td>Bronze</td>\n",
              "    </tr>\n",
              "    <tr>\n",
              "      <th>6</th>\n",
              "      <td>1896</td>\n",
              "      <td>Athens</td>\n",
              "      <td>Aquatics</td>\n",
              "      <td>Swimming</td>\n",
              "      <td>HAJOS, Alfred</td>\n",
              "      <td>HUN</td>\n",
              "      <td>Men</td>\n",
              "      <td>1200M Freestyle</td>\n",
              "      <td>Gold</td>\n",
              "    </tr>\n",
              "    <tr>\n",
              "      <th>7</th>\n",
              "      <td>1896</td>\n",
              "      <td>Athens</td>\n",
              "      <td>Aquatics</td>\n",
              "      <td>Swimming</td>\n",
              "      <td>ANDREOU, Joannis</td>\n",
              "      <td>GRE</td>\n",
              "      <td>Men</td>\n",
              "      <td>1200M Freestyle</td>\n",
              "      <td>Silver</td>\n",
              "    </tr>\n",
              "    <tr>\n",
              "      <th>8</th>\n",
              "      <td>1896</td>\n",
              "      <td>Athens</td>\n",
              "      <td>Aquatics</td>\n",
              "      <td>Swimming</td>\n",
              "      <td>CHOROPHAS, Efstathios</td>\n",
              "      <td>GRE</td>\n",
              "      <td>Men</td>\n",
              "      <td>400M Freestyle</td>\n",
              "      <td>Bronze</td>\n",
              "    </tr>\n",
              "    <tr>\n",
              "      <th>9</th>\n",
              "      <td>1896</td>\n",
              "      <td>Athens</td>\n",
              "      <td>Aquatics</td>\n",
              "      <td>Swimming</td>\n",
              "      <td>NEUMANN, Paul</td>\n",
              "      <td>AUT</td>\n",
              "      <td>Men</td>\n",
              "      <td>400M Freestyle</td>\n",
              "      <td>Gold</td>\n",
              "    </tr>\n",
              "  </tbody>\n",
              "</table>\n",
              "</div>"
            ],
            "text/plain": [
              "   Year    City     Sport  ... Gender                       Event   Medal\n",
              "0  1896  Athens  Aquatics  ...    Men              100M Freestyle    Gold\n",
              "1  1896  Athens  Aquatics  ...    Men              100M Freestyle  Silver\n",
              "2  1896  Athens  Aquatics  ...    Men  100M Freestyle For Sailors  Bronze\n",
              "3  1896  Athens  Aquatics  ...    Men  100M Freestyle For Sailors    Gold\n",
              "4  1896  Athens  Aquatics  ...    Men  100M Freestyle For Sailors  Silver\n",
              "5  1896  Athens  Aquatics  ...    Men             1200M Freestyle  Bronze\n",
              "6  1896  Athens  Aquatics  ...    Men             1200M Freestyle    Gold\n",
              "7  1896  Athens  Aquatics  ...    Men             1200M Freestyle  Silver\n",
              "8  1896  Athens  Aquatics  ...    Men              400M Freestyle  Bronze\n",
              "9  1896  Athens  Aquatics  ...    Men              400M Freestyle    Gold\n",
              "\n",
              "[10 rows x 9 columns]"
            ]
          },
          "metadata": {},
          "execution_count": 2
        }
      ]
    },
    {
      "cell_type": "markdown",
      "metadata": {
        "id": "YOwjaQjJ_81R"
      },
      "source": [
        "## 1. In how many cities Summer Olympics is held so far?\n"
      ]
    },
    {
      "cell_type": "code",
      "metadata": {
        "colab": {
          "base_uri": "https://localhost:8080/"
        },
        "id": "Pvdip6KG-nlm",
        "outputId": "1dc59375-12b0-4c66-f624-48f31dd6c9c7"
      },
      "source": [
        "df['Year'].nunique()"
      ],
      "execution_count": null,
      "outputs": [
        {
          "output_type": "execute_result",
          "data": {
            "text/plain": [
              "27"
            ]
          },
          "metadata": {},
          "execution_count": 3
        }
      ]
    },
    {
      "cell_type": "markdown",
      "metadata": {
        "id": "lkdhdH66AYmb"
      },
      "source": [
        "As per the dataset provided, `27` cities have hosted the Summer Olympics so far."
      ]
    },
    {
      "cell_type": "markdown",
      "metadata": {
        "id": "lWR9BqnMAqPY"
      },
      "source": [
        "## 2. Which sport is having most number of Gold Medals so far? (Top 5)"
      ]
    },
    {
      "cell_type": "code",
      "metadata": {
        "colab": {
          "base_uri": "https://localhost:8080/"
        },
        "id": "SANOR1DAIlgX",
        "outputId": "696877e5-e279-4e03-b345-7de9d2be2476"
      },
      "source": [
        "df[df['Medal']=='Gold']['Sport'].value_counts().head()"
      ],
      "execution_count": null,
      "outputs": [
        {
          "output_type": "execute_result",
          "data": {
            "text/plain": [
              "Aquatics      1421\n",
              "Athletics     1215\n",
              "Rowing         890\n",
              "Gymnastics     820\n",
              "Fencing        552\n",
              "Name: Sport, dtype: int64"
            ]
          },
          "metadata": {},
          "execution_count": 4
        }
      ]
    },
    {
      "cell_type": "code",
      "metadata": {
        "colab": {
          "base_uri": "https://localhost:8080/",
          "height": 545
        },
        "id": "rQhOpJDUAXNV",
        "outputId": "5d172c3b-78d4-40ff-cb4a-c15687a3d67b"
      },
      "source": [
        "df[df['Medal']=='Gold']['Sport'].value_counts().head().plot(kind='bar',figsize=(12,8))\n",
        "plt.xlabel('Sport')\n",
        "plt.ylabel('No. of Gold Medals')\n",
        "plt.show()"
      ],
      "execution_count": null,
      "outputs": [
        {
          "output_type": "display_data",
          "data": {
            "image/png": "[encoded data removed]",
            "text/plain": [
              "<Figure size 864x576 with 1 Axes>"
            ]
          },
          "metadata": {
            "needs_background": "light"
          }
        }
      ]
    },
    {
      "cell_type": "markdown",
      "metadata": {
        "id": "W_H4RZ94JzQN"
      },
      "source": [
        "The bar graph clearly shows the top 5 sports with the maximum number of gold medals in olympics.\n",
        "\n",
        "1. Aquatics       1421\n",
        "2. Athletics      1215\n",
        "3. Rowing          890\n",
        "4. Gymnastics      820\n",
        "5. Fencing        552"
      ]
    },
    {
      "cell_type": "markdown",
      "metadata": {
        "id": "QcIFykjKKWzu"
      },
      "source": [
        "## 3. Which sport is having most number of medals so far? (Top 5)"
      ]
    },
    {
      "cell_type": "code",
      "metadata": {
        "colab": {
          "base_uri": "https://localhost:8080/"
        },
        "id": "pf-Kq6FhAWKX",
        "outputId": "b87b2b70-b266-4566-e3c0-2f3d61fcb8bc"
      },
      "source": [
        "df[['Sport','Medal']].value_counts().head(15)     # No of medals won in each category in top 5 sports"
      ],
      "execution_count": null,
      "outputs": [
        {
          "output_type": "execute_result",
          "data": {
            "text/plain": [
              "Sport       Medal \n",
              "Aquatics    Gold      1421\n",
              "            Silver    1384\n",
              "            Bronze    1365\n",
              "Athletics   Silver    1224\n",
              "            Gold      1215\n",
              "            Bronze    1199\n",
              "Rowing      Gold       890\n",
              "            Silver     889\n",
              "            Bronze     888\n",
              "Gymnastics  Gold       820\n",
              "            Silver     756\n",
              "            Bronze     731\n",
              "Fencing     Gold       552\n",
              "            Silver     542\n",
              "            Bronze     519\n",
              "dtype: int64"
            ]
          },
          "metadata": {},
          "execution_count": 6
        }
      ]
    },
    {
      "cell_type": "code",
      "metadata": {
        "colab": {
          "base_uri": "https://localhost:8080/"
        },
        "id": "fJAPzRPDAyIm",
        "outputId": "71806b0c-c0e0-46a2-d996-b42b2b35708b"
      },
      "source": [
        "df['Sport'].value_counts().head()       #Total medals won in top 5 sports"
      ],
      "execution_count": null,
      "outputs": [
        {
          "output_type": "execute_result",
          "data": {
            "text/plain": [
              "Aquatics      4170\n",
              "Athletics     3638\n",
              "Rowing        2667\n",
              "Gymnastics    2307\n",
              "Fencing       1613\n",
              "Name: Sport, dtype: int64"
            ]
          },
          "metadata": {},
          "execution_count": 7
        }
      ]
    },
    {
      "cell_type": "code",
      "metadata": {
        "colab": {
          "base_uri": "https://localhost:8080/",
          "height": 545
        },
        "id": "W4UcK7npOcKL",
        "outputId": "37cdde9b-6aa1-484d-bd7c-0311eda43473"
      },
      "source": [
        "df['Sport'].value_counts().head().plot(kind='bar',figsize=(12,8))\n",
        "plt.xlabel('Sport')\n",
        "plt.ylabel('No. of Total Medals')\n",
        "plt.show()    "
      ],
      "execution_count": null,
      "outputs": [
        {
          "output_type": "display_data",
          "data": {
            "image/png": "[encoded data removed]",
            "text/plain": [
              "<Figure size 864x576 with 1 Axes>"
            ]
          },
          "metadata": {
            "needs_background": "light"
          }
        }
      ]
    },
    {
      "cell_type": "markdown",
      "metadata": {
        "id": "5vaBAIL6XtA0"
      },
      "source": [
        "The top 5 sports with most number of medals so far : \n",
        "\n",
        "1. Aquatics      4170\n",
        "2. Athletics     3638\n",
        "3. Rowing        2667\n",
        "4. Gymnastics    2307\n",
        "5. Fencing       1613"
      ]
    },
    {
      "cell_type": "markdown",
      "metadata": {
        "id": "3Xl5szOaPqkd"
      },
      "source": [
        "## 4. Which player has won most number of medals? (Top 5)"
      ]
    },
    {
      "cell_type": "code",
      "metadata": {
        "colab": {
          "base_uri": "https://localhost:8080/"
        },
        "id": "Z4tcg_LMXh5d",
        "outputId": "40e97a53-d8b8-42e5-f255-b0b6d28e253a"
      },
      "source": [
        "df['Athlete'].value_counts().head()"
      ],
      "execution_count": null,
      "outputs": [
        {
          "output_type": "execute_result",
          "data": {
            "text/plain": [
              "PHELPS, Michael         22\n",
              "LATYNINA, Larisa        18\n",
              "ANDRIANOV, Nikolay      15\n",
              "MANGIAROTTI, Edoardo    13\n",
              "ONO, Takashi            13\n",
              "Name: Athlete, dtype: int64"
            ]
          },
          "metadata": {},
          "execution_count": 9
        }
      ]
    },
    {
      "cell_type": "code",
      "metadata": {
        "colab": {
          "base_uri": "https://localhost:8080/",
          "height": 497
        },
        "id": "dfliqU9KPS-X",
        "outputId": "c848de5d-a483-42b0-cc87-d2d09d8c8b9f"
      },
      "source": [
        "df['Athlete'].value_counts().head().plot(kind='barh',figsize=(12,8))\n",
        "plt.xlabel('No of medals')\n",
        "plt.ylabel('Athlete')\n",
        "plt.show()"
      ],
      "execution_count": null,
      "outputs": [
        {
          "output_type": "display_data",
          "data": {
            "image/png": "[encoded data removed]",
            "text/plain": [
              "<Figure size 864x576 with 1 Axes>"
            ]
          },
          "metadata": {
            "needs_background": "light"
          }
        }
      ]
    },
    {
      "cell_type": "markdown",
      "metadata": {
        "id": "ZzieLDgGXV1T"
      },
      "source": [
        "The top 5 players with maximum number of medals are : \n",
        "\n",
        "1. PHELPS, Michael         22\n",
        "2. LATYNINA, Larisa        18\n",
        "3. ANDRIANOV, Nikolay      15\n",
        "4. ONO, Takashi            13\n",
        "5. MANGIAROTTI, Edoardo    13"
      ]
    },
    {
      "cell_type": "markdown",
      "metadata": {
        "id": "UfzziVGCQomu"
      },
      "source": [
        "## 5. Which player has won most number Gold Medals of medals? (Top 5)¶"
      ]
    },
    {
      "cell_type": "code",
      "metadata": {
        "colab": {
          "base_uri": "https://localhost:8080/"
        },
        "id": "yondrl7kP1Ah",
        "outputId": "316bf5f6-6fae-463e-fb86-7826ec56f7f5"
      },
      "source": [
        "df[df['Medal'] == 'Gold']['Athlete'].value_counts().head()"
      ],
      "execution_count": null,
      "outputs": [
        {
          "output_type": "execute_result",
          "data": {
            "text/plain": [
              "PHELPS, Michael     18\n",
              "NURMI, Paavo         9\n",
              "SPITZ, Mark          9\n",
              "LATYNINA, Larisa     9\n",
              "LEWIS, Carl          9\n",
              "Name: Athlete, dtype: int64"
            ]
          },
          "metadata": {},
          "execution_count": 11
        }
      ]
    },
    {
      "cell_type": "code",
      "metadata": {
        "colab": {
          "base_uri": "https://localhost:8080/",
          "height": 572
        },
        "id": "EwX0ew-zQ1di",
        "outputId": "d6be4e40-6c93-4825-f96f-c17d8f061018"
      },
      "source": [
        "df[df['Medal'] == 'Gold']['Athlete'].value_counts().head().plot(kind='bar',figsize=(12,8))\n",
        "plt.xlabel('Name of Athlete')\n",
        "plt.ylabel('No of Gold Medals')\n",
        "plt.show()"
      ],
      "execution_count": null,
      "outputs": [
        {
          "output_type": "display_data",
          "data": {
            "image/png": "[encoded data removed]",
            "text/plain": [
              "<Figure size 864x576 with 1 Axes>"
            ]
          },
          "metadata": {
            "needs_background": "light"
          }
        }
      ]
    },
    {
      "cell_type": "markdown",
      "metadata": {
        "id": "S1lAVYriXE36"
      },
      "source": [
        "The top 5 players with most number of gold medals are :\n",
        "\n",
        "1. PHELPS, Michael     18\n",
        "2. LEWIS, Carl          9\n",
        "3. NURMI, Paavo         9\n",
        "4. LATYNINA, Larisa     9\n",
        "5. SPITZ, Mark          9"
      ]
    },
    {
      "cell_type": "markdown",
      "metadata": {
        "id": "wdPYGHAjRuyj"
      },
      "source": [
        "## 6. In which year India won first Gold Medal in Summer Olympics?"
      ]
    },
    {
      "cell_type": "code",
      "metadata": {
        "id": "pV0IjcsORjYI"
      },
      "source": [
        "indian_winners = df[df['Country']=='IND']"
      ],
      "execution_count": null,
      "outputs": []
    },
    {
      "cell_type": "code",
      "metadata": {
        "colab": {
          "base_uri": "https://localhost:8080/"
        },
        "id": "Fmx9bRwlSBOh",
        "outputId": "021e7f37-4a21-4434-9bde-3bfff9a88574"
      },
      "source": [
        "indian_winners[indian_winners['Medal']=='Gold']['Year'].sort_values()"
      ],
      "execution_count": null,
      "outputs": [
        {
          "output_type": "execute_result",
          "data": {
            "text/plain": [
              "5512     1928\n",
              "5526     1928\n",
              "5525     1928\n",
              "5524     1928\n",
              "5523     1928\n",
              "         ... \n",
              "16088    1980\n",
              "16087    1980\n",
              "16102    1980\n",
              "16094    1980\n",
              "28856    2008\n",
              "Name: Year, Length: 128, dtype: int64"
            ]
          },
          "metadata": {},
          "execution_count": 14
        }
      ]
    },
    {
      "cell_type": "markdown",
      "metadata": {
        "id": "FqeHjQMfT4SL"
      },
      "source": [
        "India won its first Gold Medal in the year `1928`"
      ]
    },
    {
      "cell_type": "markdown",
      "metadata": {
        "id": "exqGTYPHUBJ-"
      },
      "source": [
        "## 7. Which event is most popular in terms on number of players? (Top 5)¶"
      ]
    },
    {
      "cell_type": "code",
      "metadata": {
        "colab": {
          "base_uri": "https://localhost:8080/"
        },
        "id": "8yjcFN8zTxJT",
        "outputId": "3a7baea1-80f1-4301-9340-63a05c854305"
      },
      "source": [
        "df['Event'].value_counts().head()"
      ],
      "execution_count": null,
      "outputs": [
        {
          "output_type": "execute_result",
          "data": {
            "text/plain": [
              "Football            1497\n",
              "Hockey              1422\n",
              "Team Competition    1147\n",
              "Basketball          1012\n",
              "Handball             973\n",
              "Name: Event, dtype: int64"
            ]
          },
          "metadata": {},
          "execution_count": 15
        }
      ]
    },
    {
      "cell_type": "code",
      "metadata": {
        "colab": {
          "base_uri": "https://localhost:8080/",
          "height": 577
        },
        "id": "0Y1hD9xUUHiP",
        "outputId": "ffe8b90d-e706-41e8-a806-6adf825a4066"
      },
      "source": [
        "df['Event'].value_counts().head().plot(kind='bar',figsize=(12,8))\n",
        "plt.xlabel('Event')\n",
        "plt.ylabel('Number of Players')\n",
        "plt.show()"
      ],
      "execution_count": null,
      "outputs": [
        {
          "output_type": "display_data",
          "data": {
            "image/png": "[encoded data removed]",
            "text/plain": [
              "<Figure size 864x576 with 1 Axes>"
            ]
          },
          "metadata": {
            "needs_background": "light"
          }
        }
      ]
    },
    {
      "cell_type": "markdown",
      "metadata": {
        "id": "90b0J9K3WtuE"
      },
      "source": [
        "The event which is most popular in terms of the number of players : \n",
        "\n",
        "1. Football            1497\n",
        "2. Hockey              1422\n",
        "3. Team Competition    1147\n",
        "4. Basketball          1012\n",
        "5. Handball             973\n"
      ]
    },
    {
      "cell_type": "markdown",
      "metadata": {
        "id": "pvDl-5X-UIiD"
      },
      "source": [
        "## 8. Which sport is having most female Gold Medalists? (Top 5)"
      ]
    },
    {
      "cell_type": "code",
      "metadata": {
        "id": "zrDvLImyUKKS"
      },
      "source": [
        "female_df = df[df['Gender']=='Women']"
      ],
      "execution_count": null,
      "outputs": []
    },
    {
      "cell_type": "code",
      "metadata": {
        "colab": {
          "base_uri": "https://localhost:8080/"
        },
        "id": "1b5QjG01VUGn",
        "outputId": "d6cdeba1-1992-47b3-ed19-b84fa2281399"
      },
      "source": [
        "female_df[female_df['Medal']=='Gold']['Sport'].value_counts().head()"
      ],
      "execution_count": null,
      "outputs": [
        {
          "output_type": "execute_result",
          "data": {
            "text/plain": [
              "Aquatics      589\n",
              "Athletics     389\n",
              "Gymnastics    268\n",
              "Rowing        217\n",
              "Volleyball    166\n",
              "Name: Sport, dtype: int64"
            ]
          },
          "metadata": {},
          "execution_count": 18
        }
      ]
    },
    {
      "cell_type": "code",
      "metadata": {
        "colab": {
          "base_uri": "https://localhost:8080/",
          "height": 497
        },
        "id": "QLX_x3TuVge5",
        "outputId": "3fd1dc81-07b8-40c1-e13f-ea502bb4692d"
      },
      "source": [
        "female_df[female_df['Medal']=='Gold']['Sport'].value_counts().head().plot(kind='barh',figsize=(12,8))\n",
        "plt.xlabel('Name of Sport')\n",
        "plt.ylabel('No of Gold Medals')\n",
        "plt.show()"
      ],
      "execution_count": null,
      "outputs": [
        {
          "output_type": "display_data",
          "data": {
            "image/png": "[encoded data removed]",
            "text/plain": [
              "<Figure size 864x576 with 1 Axes>"
            ]
          },
          "metadata": {
            "needs_background": "light"
          }
        }
      ]
    },
    {
      "cell_type": "markdown",
      "metadata": {
        "id": "P_asC83vWVOd"
      },
      "source": [
        "The bar graph clearly shows the top 5 sports with the maximum number of gold medals in Women category.\n",
        "\n",
        "1. Aquatics      589\n",
        "2. Athletics     389\n",
        "3. Gymnastics    268\n",
        "4. Rowing        217\n",
        "5. Volleyball    166"
      ]
    }
  ]
}